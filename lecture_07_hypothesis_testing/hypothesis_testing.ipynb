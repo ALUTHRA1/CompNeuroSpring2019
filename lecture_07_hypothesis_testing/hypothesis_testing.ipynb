{
 "cells": [
  {
   "cell_type": "code",
   "execution_count": 45,
   "metadata": {},
   "outputs": [],
   "source": [
    "import numpy as np\n",
    "import scipy.stats as st\n",
    "import matplotlib.pyplot as plt"
   ]
  },
  {
   "cell_type": "markdown",
   "metadata": {},
   "source": [
    "# A colony of mice with a genetic mutation have a mean life expectancy of 80 days. You give 30 mice an experimental drug and record their lifetimes (see below)."
   ]
  },
  {
   "cell_type": "code",
   "execution_count": 72,
   "metadata": {},
   "outputs": [],
   "source": [
    "lifetimes = st.norm.rvs(loc=85, scale=10, size=30, random_state=1)"
   ]
  },
  {
   "cell_type": "markdown",
   "metadata": {},
   "source": [
    "### Plot the lifetimes of the 30 experimental subjects. Indicate the mean and 95% confidence interval of the mean."
   ]
  },
  {
   "cell_type": "code",
   "execution_count": 76,
   "metadata": {},
   "outputs": [
    {
     "data": {
      "image/png": "[encoded data removed]",
      "text/plain": [
       "<Figure size 432x288 with 1 Axes>"
      ]
     },
     "metadata": {
      "needs_background": "light"
     },
     "output_type": "display_data"
    }
   ],
   "source": [
    "plt.hist(lifetimes, alpha=0.5)\n",
    "plt.axvline(lifetimes.mean())\n",
    "plt.axvline(lifetimes.mean() + 1.96 * lifetimes.std() / np.sqrt(30))\n",
    "plt.axvline(lifetimes.mean() - 1.96 * lifetimes.std() / np.sqrt(30))\n",
    "plt.xlabel('Lifetime (days)')\n",
    "plt.ylabel('Counts');"
   ]
  },
  {
   "cell_type": "markdown",
   "metadata": {},
   "source": [
    "### What is our null hypothesis?\n",
    "Drug has no effect on lifetime, i.e. subject lifetimes come from a population with mean equal to 80 days."
   ]
  },
  {
   "cell_type": "markdown",
   "metadata": {},
   "source": [
    "### What is our alternative hypothesis?\n",
    "Drug has an effect on lifetime, i.e. subject lifetimes come from a population with mean NOT equal to 80 days."
   ]
  },
  {
   "cell_type": "markdown",
   "metadata": {},
   "source": [
    "### What statistical test should we use?\n",
    "One sample t-test vs. known mean."
   ]
  },
  {
   "cell_type": "markdown",
   "metadata": {},
   "source": [
    "### Apply test to obtain a p-value."
   ]
  },
  {
   "cell_type": "code",
   "execution_count": 74,
   "metadata": {},
   "outputs": [
    {
     "name": "stdout",
     "output_type": "stream",
     "text": [
      "p-value for H0 (drug has no effect) is 0.02588326116567262\n"
     ]
    }
   ],
   "source": [
    "t, p = st.ttest_1samp(lifetimes, 80)\n",
    "print(\"p-value for H0 (drug has no effect) is\", p)"
   ]
  },
  {
   "cell_type": "markdown",
   "metadata": {},
   "source": [
    "### Do we reject the null hypothesis?\n",
    "Yes, reject $H_0$ as $p < 0.05$."
   ]
  },
  {
   "cell_type": "markdown",
   "metadata": {},
   "source": [
    "### Does the drug have an effect on lifetime?\n",
    "Yes"
   ]
  },
  {
   "cell_type": "markdown",
   "metadata": {},
   "source": [
    "### What is the size of the drug's effect?"
   ]
  },
  {
   "cell_type": "code",
   "execution_count": 75,
   "metadata": {},
   "outputs": [
    {
     "data": {
      "text/plain": [
       "0.4360865581406126"
      ]
     },
     "execution_count": 75,
     "metadata": {},
     "output_type": "execute_result"
    }
   ],
   "source": [
    "(lifetimes.mean() - 80) / lifetimes.std()"
   ]
  },
  {
   "cell_type": "code",
   "execution_count": 112,
   "metadata": {},
   "outputs": [
    {
     "data": {
      "text/plain": [
       "84.40061089344378"
      ]
     },
     "execution_count": 112,
     "metadata": {},
     "output_type": "execute_result"
    }
   ],
   "source": [
    "lifetimes.mean()"
   ]
  },
  {
   "cell_type": "markdown",
   "metadata": {},
   "source": [
    "### Does the drug have a meaningful effect on lifetime?\n",
    "The effect is very small compared to the variance, so one might conclude that this effect is not big enough to matter much."
   ]
  },
  {
   "cell_type": "markdown",
   "metadata": {},
   "source": [
    "# For the same colony, do life expectancies differ between females and males?"
   ]
  },
  {
   "cell_type": "code",
   "execution_count": 96,
   "metadata": {},
   "outputs": [],
   "source": [
    "female_lifetimes = st.norm.rvs(loc=82, scale=10, size=30, random_state=1)\n",
    "male_lifetimes = st.norm.rvs(loc=79, scale=10, size=30, random_state=80)"
   ]
  },
  {
   "cell_type": "markdown",
   "metadata": {},
   "source": [
    "### Plot the lifetimes."
   ]
  },
  {
   "cell_type": "code",
   "execution_count": 97,
   "metadata": {},
   "outputs": [
    {
     "data": {
      "image/png": "[encoded data removed]",
      "text/plain": [
       "<Figure size 432x288 with 1 Axes>"
      ]
     },
     "metadata": {
      "needs_background": "light"
     },
     "output_type": "display_data"
    }
   ],
   "source": [
    "plt.hist(male_lifetimes, alpha=0.5, label='M')\n",
    "plt.hist(female_lifetimes, alpha=0.5, label='F')\n",
    "plt.xlabel('Lifetime (days)')\n",
    "plt.ylabel('Counts')\n",
    "plt.legend();"
   ]
  },
  {
   "cell_type": "markdown",
   "metadata": {},
   "source": [
    "### What is our null hypothesis?\n",
    "Males and females have the same life expectancy."
   ]
  },
  {
   "cell_type": "markdown",
   "metadata": {},
   "source": [
    "### What is our alternative hypothesis?\n",
    "Males and females have different life expectancies."
   ]
  },
  {
   "cell_type": "markdown",
   "metadata": {},
   "source": [
    "### What statistical test should we use?\n",
    "Two independent samples t-test."
   ]
  },
  {
   "cell_type": "markdown",
   "metadata": {},
   "source": [
    "### Apply test to obtain a p-value."
   ]
  },
  {
   "cell_type": "code",
   "execution_count": 98,
   "metadata": {},
   "outputs": [
    {
     "name": "stdout",
     "output_type": "stream",
     "text": [
      "p-value for H0 (life expectancy is the same for males and females) is 0.6357118503877869\n"
     ]
    }
   ],
   "source": [
    "t, p = st.ttest_ind(female_lifetimes, male_lifetimes)\n",
    "print(\"p-value for H0 (life expectancy is the same for males and females) is\", p)"
   ]
  },
  {
   "cell_type": "markdown",
   "metadata": {},
   "source": [
    "### Do we reject the null hypothesis?\n",
    "No, we do NOT reject $H_0$ as $p > 0.05$."
   ]
  },
  {
   "cell_type": "markdown",
   "metadata": {},
   "source": [
    "### Does male and female life expectancy differ?\n",
    "Not that we can tell."
   ]
  },
  {
   "cell_type": "markdown",
   "metadata": {},
   "source": [
    "# For the same colony, does the drug have an effect on a memory recall task? Compare task scores for mice before and after recieving the drug."
   ]
  },
  {
   "cell_type": "code",
   "execution_count": 101,
   "metadata": {},
   "outputs": [],
   "source": [
    "before = st.norm.rvs(loc=115, scale=20, size=30, random_state=7)\n",
    "after = before + st.norm.rvs(loc=-10, scale=10, size=30, random_state=3)"
   ]
  },
  {
   "cell_type": "markdown",
   "metadata": {},
   "source": [
    "### Plot the before and after score distributions."
   ]
  },
  {
   "cell_type": "code",
   "execution_count": 102,
   "metadata": {},
   "outputs": [
    {
     "data": {
      "image/png": "[encoded data removed]",
      "text/plain": [
       "<Figure size 432x288 with 1 Axes>"
      ]
     },
     "metadata": {
      "needs_background": "light"
     },
     "output_type": "display_data"
    }
   ],
   "source": [
    "plt.hist(before, alpha=0.5, label='before')\n",
    "plt.hist(after, alpha=0.5, label='after')\n",
    "plt.xlabel('Task Score')\n",
    "plt.ylabel('Counts')\n",
    "plt.legend();"
   ]
  },
  {
   "cell_type": "code",
   "execution_count": 107,
   "metadata": {},
   "outputs": [
    {
     "data": {
      "image/png": "[encoded data removed]",
      "text/plain": [
       "<Figure size 432x288 with 1 Axes>"
      ]
     },
     "metadata": {
      "needs_background": "light"
     },
     "output_type": "display_data"
    }
   ],
   "source": [
    "plt.scatter(np.zeros(len(before)), before, label='before')\n",
    "plt.scatter(np.ones(len(after)), after, label='after')\n",
    "for i in range(len(before)):\n",
    "    plt.plot([0, 1], [before[i], after[i]], 'k')\n",
    "plt.xticks([0, 1], ['before', 'after'])\n",
    "plt.ylabel('Task Score');"
   ]
  },
  {
   "cell_type": "markdown",
   "metadata": {},
   "source": [
    "### What is our null hypothesis?\n",
    "Drug has no effect on task score."
   ]
  },
  {
   "cell_type": "markdown",
   "metadata": {},
   "source": [
    "### What is our alternative hypothesis?\n",
    "Drug has an effect on task score."
   ]
  },
  {
   "cell_type": "markdown",
   "metadata": {},
   "source": [
    "### What statistical test should we use?\n",
    "Two related samples t-test."
   ]
  },
  {
   "cell_type": "markdown",
   "metadata": {},
   "source": [
    "### Apply test to obtain a p-value."
   ]
  },
  {
   "cell_type": "code",
   "execution_count": 108,
   "metadata": {},
   "outputs": [
    {
     "name": "stdout",
     "output_type": "stream",
     "text": [
      "p-value for H0 (drug noes NOT affect task score) is 2.637607974903502e-07\n"
     ]
    }
   ],
   "source": [
    "t, p = st.ttest_rel(before, after)\n",
    "print(\"p-value for H0 (drug noes NOT affect task score) is\", p)"
   ]
  },
  {
   "cell_type": "markdown",
   "metadata": {},
   "source": [
    "### Do we reject the null hypothesis?\n",
    "Yes, we reject $H_0$ as $p < 0.05$."
   ]
  },
  {
   "cell_type": "markdown",
   "metadata": {},
   "source": [
    "### Does the drug affect ability in the memory recall task?\n",
    "Yes."
   ]
  },
  {
   "cell_type": "markdown",
   "metadata": {},
   "source": [
    "### What is the size of the drug's effect?"
   ]
  },
  {
   "cell_type": "code",
   "execution_count": 110,
   "metadata": {},
   "outputs": [
    {
     "data": {
      "text/plain": [
       "(-11.249020187686227, 23.007614162862083, 19.873167279660723)"
      ]
     },
     "execution_count": 110,
     "metadata": {},
     "output_type": "execute_result"
    }
   ],
   "source": [
    "after.mean() - before.mean(), after.std(), before.std()"
   ]
  },
  {
   "cell_type": "code",
   "execution_count": 111,
   "metadata": {},
   "outputs": [
    {
     "data": {
      "text/plain": [
       "-0.5232688010905608"
      ]
     },
     "execution_count": 111,
     "metadata": {},
     "output_type": "execute_result"
    }
   ],
   "source": [
    "(after.mean() - before.mean()) / np.sqrt((after.var() + before.var()) / 2)"
   ]
  },
  {
   "cell_type": "markdown",
   "metadata": {},
   "source": [
    "### Is the effect worth considering?\n",
    "Highly probable that task score will drop by nearly 10% after drug treatment, so probably worth keeping in mind."
   ]
  },
  {
   "cell_type": "markdown",
   "metadata": {},
   "source": [
    "# You record action potentials from a neuron under a set of basal conditions, and then following application of an experimental compound. You measure a basal firing rate of 5 per second before adding the compound, and after applying the compound you record a mean spike rate 6 per second. Did the compound have an effect on firing rate?\n",
    "Use the bootstrap approach to generate 10,000 bootstrap estimates of the firing rate after compound, with each estimate coming from a sample of 100 interspike intervals. Then compare post-compound spike rate with bootstrapped distribution of basal spike rates."
   ]
  },
  {
   "cell_type": "code",
   "execution_count": 31,
   "metadata": {},
   "outputs": [],
   "source": [
    "measured_interspike_intervals_after = st.expon.rvs(loc=0, scale=1/6, size=100)"
   ]
  },
  {
   "cell_type": "code",
   "execution_count": 32,
   "metadata": {},
   "outputs": [
    {
     "data": {
      "text/plain": [
       "5.779832871555164"
      ]
     },
     "execution_count": 32,
     "metadata": {},
     "output_type": "execute_result"
    }
   ],
   "source": [
    "mle_loc, mle_scale = st.expon.fit(measured_interspike_intervals_after, floc=0)\n",
    "mle_spike_rate_after = 1 / mle_scale\n",
    "mle_spike_rate_after"
   ]
  },
  {
   "cell_type": "code",
   "execution_count": 56,
   "metadata": {},
   "outputs": [],
   "source": [
    "data = measured_interspike_intervals_after\n",
    "num_measurements = len(data)\n",
    "num_bootstraps = 10000\n",
    "bootstrap_intervals_after = np.zeros((num_bootstraps, num_measurements))\n",
    "for i in range(num_bootstraps):\n",
    "    bootstrap_intervals_after[i, :] = np.random.choice(data, size=data.shape, replace=True)"
   ]
  },
  {
   "cell_type": "code",
   "execution_count": 57,
   "metadata": {},
   "outputs": [],
   "source": [
    "bootstrap_spike_rates_after = np.zeros((num_bootstraps,))\n",
    "for i in range(num_bootstraps):\n",
    "    mle_loc, mle_scale = st.expon.fit(bootstrap_intervals_after[i, :], floc=0)\n",
    "    bootstrap_spike_rates_after[i] = 1 / mle_scale"
   ]
  },
  {
   "cell_type": "code",
   "execution_count": 58,
   "metadata": {},
   "outputs": [],
   "source": [
    "mle_loc, mle_scale = st.norm.fit(bootstrap_spike_rates_after)\n",
    "spike_rates = np.linspace(3.5, 7.5, 1000)\n",
    "bootstrap_spike_rate_after_pdf = st.norm.pdf(spike_rates, loc=mle_loc, scale=mle_scale)"
   ]
  },
  {
   "cell_type": "code",
   "execution_count": 99,
   "metadata": {},
   "outputs": [
    {
     "data": {
      "image/png": "[encoded data removed]",
      "text/plain": [
       "<Figure size 432x288 with 1 Axes>"
      ]
     },
     "metadata": {
      "needs_background": "light"
     },
     "output_type": "display_data"
    }
   ],
   "source": [
    "plt.hist(bootstrap_spike_rates_after, 100, density=True)\n",
    "plt.plot(spike_rates, bootstrap_spike_rate_after_pdf, lw=3)\n",
    "plt.axvline(5, color='black')\n",
    "plt.xlabel('spike rate after compound (/s)')\n",
    "plt.ylabel('bootstrapped freq');"
   ]
  },
  {
   "cell_type": "code",
   "execution_count": 60,
   "metadata": {},
   "outputs": [
    {
     "data": {
      "text/plain": [
       "array([4.98695046, 6.78807895])"
      ]
     },
     "execution_count": 60,
     "metadata": {},
     "output_type": "execute_result"
    }
   ],
   "source": [
    "np.quantile(bootstrap_spike_rates_after, [0.025, 0.975])"
   ]
  },
  {
   "cell_type": "code",
   "execution_count": 61,
   "metadata": {},
   "outputs": [
    {
     "data": {
      "text/plain": [
       "0.027000000000000003"
      ]
     },
     "execution_count": 61,
     "metadata": {},
     "output_type": "execute_result"
    }
   ],
   "source": [
    "st.percentileofscore(bootstrap_spike_rates_after, 5) / 100"
   ]
  },
  {
   "cell_type": "code",
   "execution_count": 62,
   "metadata": {},
   "outputs": [
    {
     "name": "stdout",
     "output_type": "stream",
     "text": [
      "p-value for H0 (compound does not increase spike rate) is 0.027000000000000003\n"
     ]
    }
   ],
   "source": [
    "pval_increase = st.percentileofscore(bootstrap_spike_rates_after, 5) / 100\n",
    "\n",
    "print(\"p-value for H0 (compound does not increase spike rate) is\", pval_increase)"
   ]
  },
  {
   "cell_type": "markdown",
   "metadata": {},
   "source": [
    "# Same as above, but use bootstrap to estimate spike rate distributions both before and after compound for samples of 30 interspike intervals in each case. What is the power for this test?"
   ]
  },
  {
   "cell_type": "code",
   "execution_count": 100,
   "metadata": {},
   "outputs": [],
   "source": [
    "measured_interspike_intervals_before = st.expon.rvs(loc=0, scale=1/5, size=30)\n",
    "measured_interspike_intervals_after = st.expon.rvs(loc=0, scale=1/6, size=30)\n",
    "\n",
    "before = measured_interspike_intervals_before\n",
    "after = measured_interspike_intervals_after"
   ]
  },
  {
   "cell_type": "code",
   "execution_count": 101,
   "metadata": {},
   "outputs": [],
   "source": [
    "num_bootstraps = 10000\n",
    "bs_before = np.zeros((num_bootstraps, len(before)))\n",
    "bs_after = np.zeros((num_bootstraps, len(after)))\n",
    "bs_spike_rate_before = np.zeros((num_bootstraps,))\n",
    "bs_spike_rate_after = np.zeros((num_bootstraps,))\n",
    "for i in range(num_bootstraps):\n",
    "    bs_before[i, :] = np.random.choice(before, size=before.shape, replace=True)\n",
    "    bs_after[i, :] = np.random.choice(after, size=after.shape, replace=True)\n",
    "    \n",
    "    mle_loc, mle_scale = st.expon.fit(bs_before[i, :], floc=0)\n",
    "    bs_spike_rate_before[i] = 1 / mle_scale\n",
    "    \n",
    "    mle_loc, mle_scale = st.expon.fit(bs_after[i, :], floc=0)\n",
    "    bs_spike_rate_after[i] = 1 / mle_scale"
   ]
  },
  {
   "cell_type": "code",
   "execution_count": 102,
   "metadata": {},
   "outputs": [
    {
     "data": {
      "text/plain": [
       "array([3.68453431, 7.21362162])"
      ]
     },
     "execution_count": 102,
     "metadata": {},
     "output_type": "execute_result"
    }
   ],
   "source": [
    "before_ci = np.quantile(bs_spike_rate_before, [0.025, 0.975])\n",
    "before_ci"
   ]
  },
  {
   "cell_type": "code",
   "execution_count": 103,
   "metadata": {},
   "outputs": [
    {
     "data": {
      "text/plain": [
       "0.125"
      ]
     },
     "execution_count": 103,
     "metadata": {},
     "output_type": "execute_result"
    }
   ],
   "source": [
    "power = 1 - st.percentileofscore(bs_spike_rate_after, before_ci[1]) / 100\n",
    "power"
   ]
  },
  {
   "cell_type": "code",
   "execution_count": 104,
   "metadata": {},
   "outputs": [
    {
     "data": {
      "text/plain": [
       "6.193096610891363"
      ]
     },
     "execution_count": 104,
     "metadata": {},
     "output_type": "execute_result"
    }
   ],
   "source": [
    "mle_loc, mle_scale = st.expon.fit(after, floc=0)\n",
    "mle_spike_rate_after = 1 / mle_scale\n",
    "mle_spike_rate_after"
   ]
  },
  {
   "cell_type": "code",
   "execution_count": 107,
   "metadata": {},
   "outputs": [
    {
     "data": {
      "image/png": "[encoded data removed]",
      "text/plain": [
       "<Figure size 432x288 with 1 Axes>"
      ]
     },
     "metadata": {
      "needs_background": "light"
     },
     "output_type": "display_data"
    }
   ],
   "source": [
    "plt.hist(bs_spike_rate_before, 100, label='before', alpha=0.5)\n",
    "plt.hist(bs_spike_rate_after, 100, label='after', alpha=0.5)\n",
    "plt.axvline(before_ci[1], color='black')\n",
    "plt.axvline(mle_spike_rate_after, color='red')\n",
    "plt.xlabel('spike rate after compound (/s)')\n",
    "plt.ylabel('bootstrapped freq')\n",
    "plt.legend();"
   ]
  },
  {
   "cell_type": "code",
   "execution_count": 108,
   "metadata": {},
   "outputs": [
    {
     "name": "stdout",
     "output_type": "stream",
     "text": [
      "p-value for H0 (compound does not increase spike rate) is 0.3220434843647296\n"
     ]
    }
   ],
   "source": [
    "# t-test is not really valid though because interspike intervals are NOT normally distributed!!!\n",
    "t, p = st.ttest_ind(measured_interspike_intervals_before, measured_interspike_intervals_after)\n",
    "print(\"p-value for H0 (compound does not increase spike rate) is\", p)"
   ]
  },
  {
   "cell_type": "markdown",
   "metadata": {},
   "source": [
    "# Same as above, but for a samples of 5,000 interspike intervals in each case. What is the power for this test?"
   ]
  },
  {
   "cell_type": "code",
   "execution_count": null,
   "metadata": {},
   "outputs": [],
   "source": []
  }
 ],
 "metadata": {
  "kernelspec": {
   "display_name": "Python 3",
   "language": "python",
   "name": "python3"
  },
  "language_info": {
   "codemirror_mode": {
    "name": "ipython",
    "version": 3
   },
   "file_extension": ".py",
   "mimetype": "text/x-python",
   "name": "python",
   "nbconvert_exporter": "python",
   "pygments_lexer": "ipython3",
   "version": "3.7.1"
  }
 },
 "nbformat": 4,
 "nbformat_minor": 2
}
