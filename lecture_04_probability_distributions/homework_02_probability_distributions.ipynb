{
 "cells": [
  {
   "cell_type": "markdown",
   "metadata": {},
   "source": [
    "## Consider an experiment in which one group of mice recieved an experimental treatment (test group) whereas another group recieved a placebo (control group)."
   ]
  },
  {
   "cell_type": "markdown",
   "metadata": {},
   "source": [
    "1. (1 pt) Simulate the results of measuring the weight of each of 20 mice in the control group (assume weights are randomly distributed about a mean of 35 g with a standard deviation of 4.2 g. Plot the sample distribution overlaid with the assumed distribution used to generate the sample."
   ]
  },
  {
   "cell_type": "markdown",
   "metadata": {},
   "source": [
    "2. (1 pt) What are the sample mean and sample variance from 1. above?"
   ]
  },
  {
   "cell_type": "markdown",
   "metadata": {},
   "source": [
    "3. (1 pt) Using only your samples from 1. above, report the maximum likelihood estimate of the distribution parameters from which the samples came."
   ]
  },
  {
   "cell_type": "markdown",
   "metadata": {},
   "source": [
    "4. (1 pt) Given only your samples from 1. above, what is the estimated probability that a control mouse weighs more than 40 g? Less than 25 g?"
   ]
  },
  {
   "cell_type": "markdown",
   "metadata": {},
   "source": [
    "5. (1 pt) When the same 20 control mice are placed in a chamber where a lever press elicits a small food reward, you find that on average the mice press the lever five times in a minute. Simulate the number of lever presses for each mouse and plot the resulting distribution overlaid with the maximum likelihood fit."
   ]
  },
  {
   "cell_type": "markdown",
   "metadata": {},
   "source": [
    "6. (1 pt) In another experiment you place the 20 control mice in a chamber where side B contains both a food reward and a noxious stimuli as compared to side A. On average the mice spend 25 seconds exploring side B before returning to side A. Simulate the distribution of times spent in side B for 1000 recorded excursions and plot the distribution overlaid with the maximum likelihood PDF."
   ]
  },
  {
   "cell_type": "markdown",
   "metadata": {},
   "source": [
    "7. (1 pt) What is one potential problem with the simulated distribution in 7. above?"
   ]
  },
  {
   "cell_type": "markdown",
   "metadata": {},
   "source": [
    "8. (1 pt) How might you decide whether the problem in 8. above affected your data from 7.?"
   ]
  },
  {
   "cell_type": "markdown",
   "metadata": {},
   "source": [
    "9. (1 pt) You place the control mice in a chamber where each side of the chamber has a lever that when pressed elicits a reward such that the value of the reward differs between the sides. If the mice are twice as likely to choose reward B over reward A, simulate the expected distribution of the number of times the mice select reward B over A out of 1000 observations."
   ]
  },
  {
   "cell_type": "code",
   "execution_count": null,
   "metadata": {},
   "outputs": [],
   "source": []
  }
 ],
 "metadata": {
  "kernelspec": {
   "display_name": "Python 3",
   "language": "python",
   "name": "python3"
  },
  "language_info": {
   "codemirror_mode": {
    "name": "ipython",
    "version": 3
   },
   "file_extension": ".py",
   "mimetype": "text/x-python",
   "name": "python",
   "nbconvert_exporter": "python",
   "pygments_lexer": "ipython3",
   "version": "3.7.1"
  }
 },
 "nbformat": 4,
 "nbformat_minor": 2
}
