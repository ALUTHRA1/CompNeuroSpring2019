{
 "cells": [
  {
   "cell_type": "markdown",
   "metadata": {},
   "source": [
    "# Homework 00 - Python, NumPy and Matplotlib basics"
   ]
  },
  {
   "cell_type": "code",
   "execution_count": 1,
   "metadata": {},
   "outputs": [],
   "source": [
    "import numpy as np\n",
    "import matplotlib.pyplot as plt\n",
    "from mpl_toolkits import mplot3d  # for 3d plots"
   ]
  },
  {
   "cell_type": "markdown",
   "metadata": {},
   "source": [
    "### (1 pt) Print out all of the values in the list [1, 2, 3, 5, 6, 9, 12, 99, 4] that are less than 5."
   ]
  },
  {
   "cell_type": "code",
   "execution_count": 3,
   "metadata": {},
   "outputs": [
    {
     "name": "stdout",
     "output_type": "stream",
     "text": [
      "1\n",
      "2\n",
      "3\n",
      "4\n"
     ]
    }
   ],
   "source": [
    "for val in [1, 2, 3, 5, 6, 9, 12, 99, 4]:\n",
    "    if val < 5:\n",
    "        print(val)"
   ]
  },
  {
   "cell_type": "markdown",
   "metadata": {},
   "source": [
    "### (1 pt) Repeat the above and also print both the value and it's index in the list."
   ]
  },
  {
   "cell_type": "code",
   "execution_count": 4,
   "metadata": {},
   "outputs": [
    {
     "name": "stdout",
     "output_type": "stream",
     "text": [
      "0 1\n",
      "1 2\n",
      "2 3\n",
      "3 5\n",
      "4 6\n",
      "5 9\n",
      "6 12\n",
      "7 99\n",
      "8 4\n"
     ]
    }
   ],
   "source": [
    "for index, val in enumerate([1, 2, 3, 5, 6, 9, 12, 99, 4]):\n",
    "    print(index, val)"
   ]
  },
  {
   "cell_type": "markdown",
   "metadata": {},
   "source": [
    "### (1 pt) For the same list, print every third value only."
   ]
  },
  {
   "cell_type": "code",
   "execution_count": 6,
   "metadata": {},
   "outputs": [
    {
     "name": "stdout",
     "output_type": "stream",
     "text": [
      "0 1\n",
      "2 3\n",
      "4 6\n",
      "6 12\n",
      "8 4\n"
     ]
    }
   ],
   "source": [
    "alist = [1, 2, 3, 5, 6, 9, 12, 99, 4]\n",
    "num_items = len(alist)\n",
    "for index in range(0, num_items, 2):\n",
    "    print(index, alist[index])"
   ]
  },
  {
   "cell_type": "markdown",
   "metadata": {},
   "source": [
    "### (1 pt) Assign the above list to a variable and also create a second variable that is a view of the last two elements in the list. Change the value of the two elements in the view. What happened to the original list?"
   ]
  },
  {
   "cell_type": "markdown",
   "metadata": {},
   "source": [
    "### (1 pt) Create variables for a list and a tuple both with the same values True, False, \"Hi\", \"Bye\", 1, 0. Assign each to a new variable name such that the new variables do NOT represent the same data as the original variables."
   ]
  },
  {
   "cell_type": "markdown",
   "metadata": {},
   "source": [
    "### (1 pt) Create a dictionary with three entries that can be used to find the capitol city of three different states."
   ]
  },
  {
   "cell_type": "code",
   "execution_count": 8,
   "metadata": {},
   "outputs": [
    {
     "name": "stdout",
     "output_type": "stream",
     "text": [
      "Austin\n"
     ]
    }
   ],
   "source": [
    "capitals_dict = dict()\n",
    "capitals_dict['Texas'] = 'Austin'\n",
    "\n",
    "print(capitals_dict['Texas'])"
   ]
  },
  {
   "cell_type": "markdown",
   "metadata": {},
   "source": [
    "### (1 pt) Define a function that takes a single argument $x$ and returns the value $sqrt(x)$. Apply the function to each element in the list above and print the result."
   ]
  },
  {
   "cell_type": "code",
   "execution_count": 9,
   "metadata": {},
   "outputs": [],
   "source": [
    "def square_root(x):\n",
    "    return np.sqrt(x)"
   ]
  },
  {
   "cell_type": "code",
   "execution_count": 10,
   "metadata": {},
   "outputs": [
    {
     "name": "stdout",
     "output_type": "stream",
     "text": [
      "1 1.0\n",
      "2 1.4142135623730951\n",
      "3 1.7320508075688772\n",
      "5 2.23606797749979\n",
      "6 2.449489742783178\n",
      "9 3.0\n",
      "12 3.4641016151377544\n",
      "99 9.9498743710662\n",
      "4 2.0\n"
     ]
    }
   ],
   "source": [
    "for val in [1, 2, 3, 5, 6, 9, 12, 99, 4]:\n",
    "    print(val, square_root(val))"
   ]
  },
  {
   "cell_type": "code",
   "execution_count": 12,
   "metadata": {},
   "outputs": [
    {
     "data": {
      "text/plain": [
       "2.0"
      ]
     },
     "execution_count": 12,
     "metadata": {},
     "output_type": "execute_result"
    }
   ],
   "source": [
    "x = 2.0\n",
    "x"
   ]
  },
  {
   "cell_type": "code",
   "execution_count": 15,
   "metadata": {},
   "outputs": [
    {
     "data": {
      "text/plain": [
       "2"
      ]
     },
     "execution_count": 15,
     "metadata": {},
     "output_type": "execute_result"
    }
   ],
   "source": [
    "x = int(x)\n",
    "x"
   ]
  },
  {
   "cell_type": "markdown",
   "metadata": {},
   "source": [
    "### (1 pt) Define a function that takes a single numeric argument and returns True if the number is even and False if it is odd."
   ]
  },
  {
   "cell_type": "code",
   "execution_count": 17,
   "metadata": {},
   "outputs": [
    {
     "name": "stdout",
     "output_type": "stream",
     "text": [
      "True\n"
     ]
    }
   ],
   "source": [
    "def is_even_or_odd(x):\n",
    "    if x % 2 == 0:\n",
    "        return True\n",
    "    else:\n",
    "        return False\n",
    "\n",
    "result = is_even_or_odd(4)\n",
    "print(result)"
   ]
  },
  {
   "cell_type": "markdown",
   "metadata": {},
   "source": [
    "### (1 pt) Starting at $i = 33$, write a loop that increments $i$ by 5 each time and stops once $i$ has reached 100. At the end report how many times the loop executed."
   ]
  },
  {
   "cell_type": "markdown",
   "metadata": {},
   "source": [
    "### (1 pt) Write a loop over integer values from 1 to 10 that only prints prime numbers."
   ]
  },
  {
   "cell_type": "markdown",
   "metadata": {},
   "source": [
    "### (1 pt) Write a function that converts Celcius to Fahrenheit."
   ]
  },
  {
   "cell_type": "markdown",
   "metadata": {},
   "source": [
    "### (1 pt) Write a function that checks if a number is positive, negative or zero and prints the result. Make it so that calling the function without supplying a number reports zero."
   ]
  },
  {
   "cell_type": "markdown",
   "metadata": {},
   "source": [
    "### (1 pt) Print the version of Python that you are using."
   ]
  },
  {
   "cell_type": "markdown",
   "metadata": {},
   "source": [
    "### (1 pt) Generate a 10 x 10 matrix of random integers with values between 5 and 9."
   ]
  },
  {
   "cell_type": "code",
   "execution_count": 19,
   "metadata": {},
   "outputs": [
    {
     "data": {
      "text/plain": [
       "array([[6, 8, 5, 9, 6, 5, 8, 8, 9, 5],\n",
       "       [5, 6, 8, 8, 8, 9, 5, 9, 8, 9],\n",
       "       [7, 9, 5, 7, 6, 5, 9, 9, 6, 6],\n",
       "       [8, 9, 8, 6, 7, 7, 8, 6, 8, 6],\n",
       "       [7, 6, 7, 9, 9, 7, 6, 7, 6, 7],\n",
       "       [9, 5, 5, 5, 8, 5, 8, 7, 6, 7],\n",
       "       [8, 7, 5, 6, 7, 5, 9, 9, 5, 9],\n",
       "       [9, 6, 8, 9, 5, 8, 6, 9, 5, 8],\n",
       "       [7, 7, 6, 7, 6, 6, 8, 5, 7, 9],\n",
       "       [9, 5, 9, 8, 8, 9, 7, 7, 8, 6]])"
      ]
     },
     "execution_count": 19,
     "metadata": {},
     "output_type": "execute_result"
    }
   ],
   "source": [
    "mat = np.random.randint(5, 10, (10, 10))\n",
    "\n",
    "mat"
   ]
  },
  {
   "cell_type": "markdown",
   "metadata": {},
   "source": [
    "### (1 pt) Use numpy.linspace to generate 100 equally spaced values of $x$ between and including -5 and 5. For each $x$ value, evaluate $y(x) = x^2$ and plot the result."
   ]
  },
  {
   "cell_type": "code",
   "execution_count": 20,
   "metadata": {},
   "outputs": [
    {
     "data": {
      "image/png": "[encoded data removed]",
      "text/plain": [
       "<Figure size 432x288 with 1 Axes>"
      ]
     },
     "metadata": {
      "needs_background": "light"
     },
     "output_type": "display_data"
    }
   ],
   "source": [
    "x = np.linspace(-5, 5, 100)\n",
    "y = x**2\n",
    "\n",
    "plt.plot(x, y)\n",
    "plt.xlabel('x')\n",
    "plt.ylabel('y');"
   ]
  },
  {
   "cell_type": "markdown",
   "metadata": {},
   "source": [
    "### (1 pt) For the same values of $x$ above, plot $y(x) = a x^2 + b x + c$. Choose your own values for $a$, $b$ and $c$. Overaly two plots with different values of $c$."
   ]
  },
  {
   "cell_type": "code",
   "execution_count": 21,
   "metadata": {},
   "outputs": [
    {
     "data": {
      "image/png": "[encoded data removed]",
      "text/plain": [
       "<Figure size 432x288 with 1 Axes>"
      ]
     },
     "metadata": {
      "needs_background": "light"
     },
     "output_type": "display_data"
    }
   ],
   "source": [
    "a = 2\n",
    "b = -3\n",
    "c = 50\n",
    "y1 = (a * (x**2)) + (b * x) + c\n",
    "\n",
    "a = 3\n",
    "b = -56\n",
    "c = 3\n",
    "y2 = a * x**2 + b * x + c\n",
    "\n",
    "plt.plot(x, y1)\n",
    "plt.plot(x, y2)\n",
    "plt.xlabel('x')\n",
    "plt.ylabel('y');"
   ]
  },
  {
   "cell_type": "markdown",
   "metadata": {},
   "source": [
    "### (1 pt) For one of the above polynomials, compute the distance from every point (x,y) to the origin and plot those distances vs $x$."
   ]
  },
  {
   "cell_type": "code",
   "execution_count": 30,
   "metadata": {},
   "outputs": [
    {
     "data": {
      "text/plain": [
       "(array([ 16.,  32.,  96., 103., 142., 174., 205., 136.,  72.,  24.]),\n",
       " array([0.024607  , 0.16238744, 0.30016787, 0.43794831, 0.57572875,\n",
       "        0.71350918, 0.85128962, 0.98907005, 1.12685049, 1.26463092,\n",
       "        1.40241136]),\n",
       " <a list of 10 Patch objects>)"
      ]
     },
     "execution_count": 30,
     "metadata": {},
     "output_type": "execute_result"
    },
    {
     "data": {
      "image/png": "[encoded data removed]",
      "text/plain": [
       "<Figure size 432x288 with 1 Axes>"
      ]
     },
     "metadata": {
      "needs_background": "light"
     },
     "output_type": "display_data"
    }
   ],
   "source": [
    "xy = np.random.rand(1000, 2)\n",
    "x = xy[:, 0]\n",
    "y = xy[:, 1]\n",
    "\n",
    "dist = np.sqrt((xy**2).sum(axis=1))\n",
    "\n",
    "plt.hist(dist, 10)"
   ]
  },
  {
   "cell_type": "code",
   "execution_count": 9,
   "metadata": {},
   "outputs": [
    {
     "data": {
      "image/png": "[encoded data removed]",
      "text/plain": [
       "<Figure size 432x288 with 1 Axes>"
      ]
     },
     "metadata": {
      "needs_background": "light"
     },
     "output_type": "display_data"
    }
   ],
   "source": [
    "distance_from_origin = np.sqrt(x**2 + y2**2)\n",
    "\n",
    "plt.plot(x, distance_from_origin)\n",
    "plt.xlabel('x')\n",
    "plt.ylabel('distance from origin');"
   ]
  },
  {
   "cell_type": "markdown",
   "metadata": {},
   "source": [
    "### (1 pt) Generate 100 random (x, y, z) coordinates in bounded by a box with corners (0, 0, 0) and (5, 3, 1). Plot each point in a 3D graph."
   ]
  },
  {
   "cell_type": "code",
   "execution_count": 32,
   "metadata": {},
   "outputs": [
    {
     "data": {
      "image/png": "[encoded data removed]",
      "text/plain": [
       "<Figure size 432x288 with 1 Axes>"
      ]
     },
     "metadata": {
      "needs_background": "light"
     },
     "output_type": "display_data"
    }
   ],
   "source": [
    "xyz = np.random.rand(100, 3)  # each row is an x, y, z point with random values in [0,1)\n",
    "\n",
    "# create views into each column\n",
    "x = xyz[:, 0]\n",
    "y = xyz[:, 1]\n",
    "z = xyz[:, 2]\n",
    "\n",
    "# scale dimensions to fit bounding box\n",
    "x *= 5\n",
    "y *= 3\n",
    "\n",
    "# plot points in 3D\n",
    "fig = plt.figure()\n",
    "ax = fig.add_subplot(1, 1, 1, projection='3d')\n",
    "ax.scatter(x, y, z)\n",
    "ax.set_xlabel('x')\n",
    "ax.set_ylabel('y')\n",
    "ax.set_zlabel('z')\n",
    "fig.tight_layout();  # helps improve margins between plots"
   ]
  },
  {
   "cell_type": "markdown",
   "metadata": {},
   "source": [
    "### (1 pt) Shift the above (x, y, z) coordinates so they are centered about the origin and replot."
   ]
  },
  {
   "cell_type": "code",
   "execution_count": 36,
   "metadata": {},
   "outputs": [
    {
     "name": "stdout",
     "output_type": "stream",
     "text": [
      "[100.           1.56494264   0.49190544]\n",
      "[100.           1.56494264   0.49190544]\n"
     ]
    }
   ],
   "source": [
    "cx = x.mean()\n",
    "cy = y.mean()\n",
    "cz = z.mean()\n",
    "\n",
    "x -= cx\n",
    "y -= cy\n",
    "z -= cz\n",
    "\n",
    "x[0] = 100\n",
    "print(xyz[0, :])\n",
    "\n",
    "x = x - cx\n",
    "x[0] = 200\n",
    "print(xyz[0, :])\n",
    "\n",
    "# plot points in 3D\n",
    "# fig = plt.figure()\n",
    "# ax = fig.add_subplot(1, 1, 1, projection='3d')\n",
    "# ax.scatter(x, y, z)\n",
    "# ax.set_xlabel('x')\n",
    "# ax.set_ylabel('y')\n",
    "# ax.set_zlabel('z')\n",
    "# fig.tight_layout();  # helps improve margins between plots"
   ]
  },
  {
   "cell_type": "markdown",
   "metadata": {},
   "source": [
    "### (1 pt) For the above (x,y,z) coords, find the mean, min and max values in each dimension."
   ]
  },
  {
   "cell_type": "markdown",
   "metadata": {},
   "source": [
    "### (1 pt) Scale the above (x,y,z) coords so that they are bounded by -1 and 1 in each dimension. Verify by reporting bounds or plotting."
   ]
  },
  {
   "cell_type": "markdown",
   "metadata": {},
   "source": [
    "### (1 pt) Plot the two dimensional (x,y) projection of each of the above (x,y,z) coords, then add the vector (-2,+1,+2) to each point and overlay the shifted (x,y) projections on the same plot."
   ]
  },
  {
   "cell_type": "markdown",
   "metadata": {},
   "source": [
    "### (1 pt) Create a 30 x 30 matrix whose values are the sum of the row and column indices. Plot the matrix as a colored image."
   ]
  },
  {
   "cell_type": "code",
   "execution_count": null,
   "metadata": {},
   "outputs": [],
   "source": []
  }
 ],
 "metadata": {
  "kernelspec": {
   "display_name": "Python 3",
   "language": "python",
   "name": "python3"
  },
  "language_info": {
   "codemirror_mode": {
    "name": "ipython",
    "version": 3
   },
   "file_extension": ".py",
   "mimetype": "text/x-python",
   "name": "python",
   "nbconvert_exporter": "python",
   "pygments_lexer": "ipython3",
   "version": "3.7.1"
  }
 },
 "nbformat": 4,
 "nbformat_minor": 2
}
