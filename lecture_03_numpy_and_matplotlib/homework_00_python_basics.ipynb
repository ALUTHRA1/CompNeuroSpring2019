{
 "cells": [
  {
   "cell_type": "markdown",
   "metadata": {},
   "source": [
    "# Homework 00 - Python, NumPy and Matplotlib basics"
   ]
  },
  {
   "cell_type": "code",
   "execution_count": 3,
   "metadata": {},
   "outputs": [],
   "source": [
    "import numpy as np\n",
    "import matplotlib.pyplot as plt\n",
    "from mpl_toolkits import mplot3d  # for 3d plots"
   ]
  },
  {
   "cell_type": "markdown",
   "metadata": {},
   "source": [
    "### (1 pt) Print out all of the values in the list [1, 2, 3, 5, 6, 9, 12, 99, 4] that are less than 5."
   ]
  },
  {
   "cell_type": "markdown",
   "metadata": {},
   "source": [
    "### (1 pt) Repeat the above and also print both the value and it's index in the list."
   ]
  },
  {
   "cell_type": "markdown",
   "metadata": {},
   "source": [
    "### (1 pt) For the same list, print every third value only."
   ]
  },
  {
   "cell_type": "markdown",
   "metadata": {},
   "source": [
    "### (1 pt) Assign the above list to a variable and also create a second variable that is a view of the last two elements in the list. Change the value of the two elements in the view. What happened to the original list?"
   ]
  },
  {
   "cell_type": "markdown",
   "metadata": {},
   "source": [
    "### (1 pt) Create variables for a list and a tuple both with the same values True, False, \"Hi\", \"Bye\", 1, 0. Assign each to a new variable name such that the new variables do NOT represent the same data as the original variables."
   ]
  },
  {
   "cell_type": "markdown",
   "metadata": {},
   "source": [
    "### (1 pt) Create a dictionary with three entries that can be used to find the capitol city of three different states."
   ]
  },
  {
   "cell_type": "markdown",
   "metadata": {},
   "source": [
    "### (1 pt) Define a function that takes a single argument $x$ and returns the value $sqrt(x)$. Apply the function to each element in the list above and print the result."
   ]
  },
  {
   "cell_type": "markdown",
   "metadata": {},
   "source": [
    "### (1 pt) Define a function that takes a single numeric argument and returns True if the number is even and False if it is odd."
   ]
  },
  {
   "cell_type": "markdown",
   "metadata": {},
   "source": [
    "### (1 pt) Starting at $i = 33$, write a loop that increments $i$ by 5 each time and stops once $i$ has reached 100. At the end report how many times the loop executed."
   ]
  },
  {
   "cell_type": "markdown",
   "metadata": {},
   "source": [
    "### (1 pt) Write a loop over integer values from 1 to 10 that only prints prime numbers."
   ]
  },
  {
   "cell_type": "markdown",
   "metadata": {},
   "source": [
    "### (1 pt) Write a function that converts Celcius to Fahrenheit."
   ]
  },
  {
   "cell_type": "markdown",
   "metadata": {},
   "source": [
    "### (1 pt) Write a function that checks if a number is positive, negative or zero and prints the result. Make it so that calling the function without supplying a number reports zero."
   ]
  },
  {
   "cell_type": "markdown",
   "metadata": {},
   "source": [
    "### (1 pt) Print the version of Python that you are using."
   ]
  },
  {
   "cell_type": "markdown",
   "metadata": {},
   "source": [
    "### (1 pt) Generate a 10 x 10 matrix of random integers with values between 5 and 9."
   ]
  },
  {
   "cell_type": "markdown",
   "metadata": {},
   "source": [
    "### (1 pt) Use numpy.linspace to generate 100 equally spaced values of $x$ between and including -5 and 5. For each $x$ value, evaluate $y(x) = x^2$ and plot the result."
   ]
  },
  {
   "cell_type": "markdown",
   "metadata": {},
   "source": [
    "### (1 pt) For the same values of $x$ above, plot $y(x) = a x^2 + b x + c$. Choose your own values for $a$, $b$ and $c$. Overaly two plots with different values of $c$."
   ]
  },
  {
   "cell_type": "markdown",
   "metadata": {},
   "source": [
    "### (1 pt) For one of the above polynomials, compute the distance from every point (x,y) to the origin and plot those distances vs $x$."
   ]
  },
  {
   "cell_type": "markdown",
   "metadata": {},
   "source": [
    "### (1 pt) Generate 100 random (x, y, z) coordinates in bounded by a box with corners (0, 0, 0) and (5, 3, 1). Plot each point in a 3D graph."
   ]
  },
  {
   "cell_type": "markdown",
   "metadata": {},
   "source": [
    "### (1 pt) Shift the above (x, y, z) coordinates so they are centered about the origin and replot."
   ]
  },
  {
   "cell_type": "markdown",
   "metadata": {},
   "source": [
    "### (1 pt) For the above (x,y,z) coords, find the mean, min and max values in each dimension."
   ]
  },
  {
   "cell_type": "markdown",
   "metadata": {},
   "source": [
    "### (1 pt) Scale the above (x,y,z) coords so that they are bounded by -1 and 1 in each dimension. Verify by reporting bounds or plotting."
   ]
  },
  {
   "cell_type": "markdown",
   "metadata": {},
   "source": [
    "### (1 pt) Plot the two dimensional (x,y) projection of each of the above (x,y,z) coords, then add the vector (-2,+1,+2) to each point and overlay the shifted (x,y) projections on the same plot."
   ]
  },
  {
   "cell_type": "markdown",
   "metadata": {},
   "source": [
    "### (1 pt) Create a 30 x 30 matrix whose values are the sum of the row and column indices. Plot the matrix as a colored image."
   ]
  },
  {
   "cell_type": "code",
   "execution_count": null,
   "metadata": {},
   "outputs": [],
   "source": []
  }
 ],
 "metadata": {
  "kernelspec": {
   "display_name": "Python 3",
   "language": "python",
   "name": "python3"
  },
  "language_info": {
   "codemirror_mode": {
    "name": "ipython",
    "version": 3
   },
   "file_extension": ".py",
   "mimetype": "text/x-python",
   "name": "python",
   "nbconvert_exporter": "python",
   "pygments_lexer": "ipython3",
   "version": "3.7.1"
  }
 },
 "nbformat": 4,
 "nbformat_minor": 2
}
